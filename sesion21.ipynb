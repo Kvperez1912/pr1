{
  "nbformat": 4,
  "nbformat_minor": 0,
  "metadata": {
    "colab": {
      "provenance": [],
      "authorship_tag": "ABX9TyPTX61KAAyo4Ul+UVy2Qnkk",
      "include_colab_link": true
    },
    "kernelspec": {
      "name": "python3",
      "display_name": "Python 3"
    },
    "language_info": {
      "name": "python"
    }
  },
  "cells": [
    {
      "cell_type": "markdown",
      "metadata": {
        "id": "view-in-github",
        "colab_type": "text"
      },
      "source": [
        "<a href=\"https://colab.research.google.com/github/Kvperez1912/pr1/blob/main/sesion21.ipynb\" target=\"_parent\"><img src=\"https://colab.research.google.com/assets/colab-badge.svg\" alt=\"Open In Colab\"/></a>"
      ]
    },
    {
      "cell_type": "code",
      "execution_count": null,
      "metadata": {
        "colab": {
          "base_uri": "https://localhost:8080/"
        },
        "id": "jZ0uCbvxG2sF",
        "outputId": "5760d25c-63bb-4648-b570-5a14b752a6bf"
      },
      "outputs": [
        {
          "output_type": "stream",
          "name": "stdout",
          "text": [
            "40\n"
          ]
        }
      ],
      "source": [
        "def sumar(num1,num2):\n",
        "  return num1+num2\n",
        "\n",
        "n1=10\n",
        "n2=20\n",
        "sumar(n1,n2)\n",
        "sumar2=sumar(n1,n2)+10\n",
        "print(sumar2)"
      ]
    },
    {
      "cell_type": "code",
      "source": [
        "def Saludar(name):\n",
        "  respuesta=[]\n",
        "  for i in name:\n",
        "    respuesta.append(i)\n",
        "  return respuesta\n",
        "\n",
        "recibido=Saludar(\"Juan acosta mrndoza\")\n",
        "print(recibido)\n",
        "cont=0\n",
        "for i in recibido:\n",
        "  if i==\"a\":\n",
        "    cont+=1\n",
        "print(f\"la laetra a se encuentra {cont} veces.\")\n",
        "\n",
        "#cantidad de veces por letra\n",
        "cantidad_letra=[]\n",
        "cont2=0\n",
        "for i in recibido:\n",
        "  for j in recibido:\n",
        "    if i==j:\n",
        "      cont2+=1\n",
        "  cantidad_letra.append(cont2)\n",
        "  cont2=0\n",
        "print(cantidad_letra)"
      ],
      "metadata": {
        "colab": {
          "base_uri": "https://localhost:8080/"
        },
        "id": "OzG67CU_TU-b",
        "outputId": "9f0ff0be-2efa-4cce-eba3-578ec7df9199"
      },
      "execution_count": null,
      "outputs": [
        {
          "output_type": "stream",
          "name": "stdout",
          "text": [
            "['J', 'u', 'a', 'n', ' ', 'a', 'c', 'o', 's', 't', 'a', ' ', 'm', 'r', 'n', 'd', 'o', 'z', 'a']\n",
            "la laetra a se encuentra 4 veces.\n",
            "[1, 1, 4, 2, 2, 4, 1, 2, 1, 1, 4, 2, 1, 1, 2, 1, 2, 1, 4]\n"
          ]
        }
      ]
    },
    {
      "cell_type": "code",
      "source": [
        "def potencia(base, exponente=2):\n",
        "  return base ** exponente\n",
        "\n",
        "print(potencia(3))\n",
        "print(potencia(3,3))"
      ],
      "metadata": {
        "colab": {
          "base_uri": "https://localhost:8080/"
        },
        "id": "SkfBGhcWaG86",
        "outputId": "0352dd19-a0ac-409b-d711-6fd41da81188"
      },
      "execution_count": null,
      "outputs": [
        {
          "output_type": "stream",
          "name": "stdout",
          "text": [
            "9\n",
            "27\n"
          ]
        }
      ]
    },
    {
      "cell_type": "code",
      "source": [
        "def vector_sin_ceros(datos:list):\n",
        "  respuesta=[]\n",
        "  for i in range(len(datos)-1):\n",
        "    if datos[i]==0:\n",
        "      respuesta.append(i)\n",
        "  print(respuesta)\n",
        "  return respuesta\n",
        "\n",
        "tiempo=[1,2,3,0,1,2,0,1,2]\n",
        "sensor=[10,20,30,20,10,20,20,10,20]\n",
        "\n",
        "indices=vector_sin_ceros(tiempo)\n",
        "resultado=[]\n",
        "resultado2=[]\n",
        "for i in indices:\n",
        "  #3,6\n",
        "  for j in range(len(tiempo)):\n",
        "    if++i==j:\n",
        "      resultado.append(tiempo[i])\n",
        "      resultado2.append(sensor[i])\n",
        "print(f\"vector tiempo: {resultado}\")\n",
        "print(f\"vector tiempo: {resultado2}\")\n"
      ],
      "metadata": {
        "colab": {
          "base_uri": "https://localhost:8080/"
        },
        "id": "hAUsd4qmcR_q",
        "outputId": "4893323d-8154-4bea-af6d-1e62d53e72a6"
      },
      "execution_count": null,
      "outputs": [
        {
          "output_type": "stream",
          "name": "stdout",
          "text": [
            "[3, 6]\n",
            "vector tiempo: [0, 0]\n",
            "vector tiempo: [20, 20]\n"
          ]
        }
      ]
    },
    {
      "cell_type": "code",
      "source": [
        "def promedio(*numero):\n",
        "  return sum(numero)/len(numero)\n",
        "\n",
        "print(f\"el promedio es {promedio(1,2,3,4)}\")\n",
        "print(f\"el promedio es {promedio(1,2,3,4,5,6,7,8,9,10)}\")"
      ],
      "metadata": {
        "colab": {
          "base_uri": "https://localhost:8080/"
        },
        "id": "yrP4tC8VkQMr",
        "outputId": "bfc2927a-2e18-4daa-c28d-7755ed401b2e"
      },
      "execution_count": null,
      "outputs": [
        {
          "output_type": "stream",
          "name": "stdout",
          "text": [
            "el promedio es 2.5\n",
            "el promedio es 5.5\n"
          ]
        }
      ]
    },
    {
      "cell_type": "code",
      "source": [
        "import math\n",
        "def Saludar(name):\n",
        "  print(\"hola¡¡ bienvenido\")\n",
        "  return name\n",
        "\n",
        "recibido=Saludar(\"Juan acosta mendoza\")\n",
        "print(recibido)\n",
        "\n",
        "def area_circulo(radio):\n",
        "  return math.pi*radio**2\n",
        "resultado=area_circulo(5)\n",
        "print(f\"el area del circulo es {resultado}\")\n",
        "\n"
      ],
      "metadata": {
        "colab": {
          "base_uri": "https://localhost:8080/"
        },
        "id": "kBg89_BczPr0",
        "outputId": "25887cfd-5de7-428c-f35b-8c399fb0be56"
      },
      "execution_count": null,
      "outputs": [
        {
          "output_type": "stream",
          "name": "stdout",
          "text": [
            "hola¡¡ bienvenido\n",
            "Juan acosta mendoza\n",
            "el area del circulo es 78.53981633974483\n"
          ]
        }
      ]
    },
    {
      "cell_type": "markdown",
      "source": [],
      "metadata": {
        "id": "uXm_7_ISd06B"
      }
    }
  ]
}